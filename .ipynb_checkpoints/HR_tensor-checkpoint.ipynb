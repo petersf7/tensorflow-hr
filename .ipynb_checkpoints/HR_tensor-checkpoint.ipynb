{
 "cells": [
  {
   "cell_type": "markdown",
   "metadata": {
    "collapsed": true
   },
   "source": [
    "# HR - Hvilke ansatte kommer til å slutte? - Tensorflow\n",
    "\n",
    "Datasettet er tatt fra https://www.kaggle.com/ludobenistant/hr-analytics\n",
    "\n",
    "\n",
    "## Intro\n",
    "Vi ønsker å lage en modell som med god treffsikkert greier å forutse hvilke ansatte som kommer til å forlate selskapet i nærmeste fremtid.\n",
    "\n",
    "\n"
   ]
  },
  {
   "cell_type": "code",
   "execution_count": 259,
   "metadata": {
    "collapsed": false
   },
   "outputs": [],
   "source": [
    "import tensorflow as tf\n",
    "\n",
    "import numpy as np\n",
    "\n",
    "import pandas as pd\n",
    "\n",
    "%matplotlib inline\n",
    "import numpy as np\n",
    "import matplotlib.pyplot as plt\n",
    "import pandas as pd\n",
    "\n",
    "import seaborn as sns\n",
    "\n",
    "from sklearn.preprocessing import StandardScaler,LabelEncoder\n",
    "from sklearn.ensemble import RandomForestClassifier\n",
    "from sklearn.cross_validation import StratifiedKFold, train_test_split"
   ]
  },
  {
   "cell_type": "code",
   "execution_count": 260,
   "metadata": {
    "collapsed": false
   },
   "outputs": [],
   "source": [
    "# Les inn datasettet i en Pandas DataFrame\n",
    "hr_data = pd.read_csv('data/HR_comma_sep.csv')"
   ]
  },
  {
   "cell_type": "code",
   "execution_count": 261,
   "metadata": {
    "collapsed": true
   },
   "outputs": [],
   "source": [
    "# Shuffel datasettet så det ikke ligger sortert.\n",
    "hr_data = hr_data.sample(frac=1).reset_index(drop=True)"
   ]
  },
  {
   "cell_type": "code",
   "execution_count": 262,
   "metadata": {
    "collapsed": false
   },
   "outputs": [
    {
     "data": {
      "text/html": [
       "<div>\n",
       "<table border=\"1\" class=\"dataframe\">\n",
       "  <thead>\n",
       "    <tr style=\"text-align: right;\">\n",
       "      <th></th>\n",
       "      <th>satisfaction_level</th>\n",
       "      <th>last_evaluation</th>\n",
       "      <th>number_project</th>\n",
       "      <th>average_montly_hours</th>\n",
       "      <th>time_spend_company</th>\n",
       "      <th>Work_accident</th>\n",
       "      <th>left</th>\n",
       "      <th>promotion_last_5years</th>\n",
       "      <th>sales</th>\n",
       "      <th>salary</th>\n",
       "    </tr>\n",
       "  </thead>\n",
       "  <tbody>\n",
       "    <tr>\n",
       "      <th>0</th>\n",
       "      <td>0.57</td>\n",
       "      <td>0.90</td>\n",
       "      <td>3</td>\n",
       "      <td>256</td>\n",
       "      <td>4</td>\n",
       "      <td>0</td>\n",
       "      <td>0</td>\n",
       "      <td>0</td>\n",
       "      <td>RandD</td>\n",
       "      <td>low</td>\n",
       "    </tr>\n",
       "    <tr>\n",
       "      <th>1</th>\n",
       "      <td>0.21</td>\n",
       "      <td>0.81</td>\n",
       "      <td>4</td>\n",
       "      <td>227</td>\n",
       "      <td>5</td>\n",
       "      <td>0</td>\n",
       "      <td>0</td>\n",
       "      <td>0</td>\n",
       "      <td>marketing</td>\n",
       "      <td>medium</td>\n",
       "    </tr>\n",
       "    <tr>\n",
       "      <th>2</th>\n",
       "      <td>0.63</td>\n",
       "      <td>0.50</td>\n",
       "      <td>4</td>\n",
       "      <td>172</td>\n",
       "      <td>2</td>\n",
       "      <td>0</td>\n",
       "      <td>0</td>\n",
       "      <td>0</td>\n",
       "      <td>technical</td>\n",
       "      <td>low</td>\n",
       "    </tr>\n",
       "    <tr>\n",
       "      <th>3</th>\n",
       "      <td>0.45</td>\n",
       "      <td>0.54</td>\n",
       "      <td>2</td>\n",
       "      <td>138</td>\n",
       "      <td>3</td>\n",
       "      <td>0</td>\n",
       "      <td>1</td>\n",
       "      <td>0</td>\n",
       "      <td>technical</td>\n",
       "      <td>medium</td>\n",
       "    </tr>\n",
       "    <tr>\n",
       "      <th>4</th>\n",
       "      <td>0.64</td>\n",
       "      <td>0.94</td>\n",
       "      <td>3</td>\n",
       "      <td>150</td>\n",
       "      <td>2</td>\n",
       "      <td>0</td>\n",
       "      <td>0</td>\n",
       "      <td>0</td>\n",
       "      <td>technical</td>\n",
       "      <td>medium</td>\n",
       "    </tr>\n",
       "    <tr>\n",
       "      <th>5</th>\n",
       "      <td>0.71</td>\n",
       "      <td>0.71</td>\n",
       "      <td>4</td>\n",
       "      <td>221</td>\n",
       "      <td>3</td>\n",
       "      <td>0</td>\n",
       "      <td>0</td>\n",
       "      <td>0</td>\n",
       "      <td>technical</td>\n",
       "      <td>low</td>\n",
       "    </tr>\n",
       "    <tr>\n",
       "      <th>6</th>\n",
       "      <td>0.39</td>\n",
       "      <td>0.56</td>\n",
       "      <td>2</td>\n",
       "      <td>156</td>\n",
       "      <td>3</td>\n",
       "      <td>0</td>\n",
       "      <td>1</td>\n",
       "      <td>0</td>\n",
       "      <td>IT</td>\n",
       "      <td>low</td>\n",
       "    </tr>\n",
       "    <tr>\n",
       "      <th>7</th>\n",
       "      <td>0.69</td>\n",
       "      <td>0.98</td>\n",
       "      <td>4</td>\n",
       "      <td>180</td>\n",
       "      <td>3</td>\n",
       "      <td>0</td>\n",
       "      <td>0</td>\n",
       "      <td>0</td>\n",
       "      <td>support</td>\n",
       "      <td>medium</td>\n",
       "    </tr>\n",
       "    <tr>\n",
       "      <th>8</th>\n",
       "      <td>0.44</td>\n",
       "      <td>0.61</td>\n",
       "      <td>3</td>\n",
       "      <td>147</td>\n",
       "      <td>4</td>\n",
       "      <td>0</td>\n",
       "      <td>0</td>\n",
       "      <td>0</td>\n",
       "      <td>RandD</td>\n",
       "      <td>low</td>\n",
       "    </tr>\n",
       "    <tr>\n",
       "      <th>9</th>\n",
       "      <td>0.92</td>\n",
       "      <td>0.68</td>\n",
       "      <td>4</td>\n",
       "      <td>178</td>\n",
       "      <td>3</td>\n",
       "      <td>0</td>\n",
       "      <td>0</td>\n",
       "      <td>0</td>\n",
       "      <td>product_mng</td>\n",
       "      <td>low</td>\n",
       "    </tr>\n",
       "  </tbody>\n",
       "</table>\n",
       "</div>"
      ],
      "text/plain": [
       "   satisfaction_level  last_evaluation  number_project  average_montly_hours  \\\n",
       "0                0.57             0.90               3                   256   \n",
       "1                0.21             0.81               4                   227   \n",
       "2                0.63             0.50               4                   172   \n",
       "3                0.45             0.54               2                   138   \n",
       "4                0.64             0.94               3                   150   \n",
       "5                0.71             0.71               4                   221   \n",
       "6                0.39             0.56               2                   156   \n",
       "7                0.69             0.98               4                   180   \n",
       "8                0.44             0.61               3                   147   \n",
       "9                0.92             0.68               4                   178   \n",
       "\n",
       "   time_spend_company  Work_accident  left  promotion_last_5years  \\\n",
       "0                   4              0     0                      0   \n",
       "1                   5              0     0                      0   \n",
       "2                   2              0     0                      0   \n",
       "3                   3              0     1                      0   \n",
       "4                   2              0     0                      0   \n",
       "5                   3              0     0                      0   \n",
       "6                   3              0     1                      0   \n",
       "7                   3              0     0                      0   \n",
       "8                   4              0     0                      0   \n",
       "9                   3              0     0                      0   \n",
       "\n",
       "         sales  salary  \n",
       "0        RandD     low  \n",
       "1    marketing  medium  \n",
       "2    technical     low  \n",
       "3    technical  medium  \n",
       "4    technical  medium  \n",
       "5    technical     low  \n",
       "6           IT     low  \n",
       "7      support  medium  \n",
       "8        RandD     low  \n",
       "9  product_mng     low  "
      ]
     },
     "execution_count": 262,
     "metadata": {},
     "output_type": "execute_result"
    }
   ],
   "source": [
    "hr_data.head(10)"
   ]
  },
  {
   "cell_type": "code",
   "execution_count": 263,
   "metadata": {
    "collapsed": false
   },
   "outputs": [
    {
     "data": {
      "text/plain": [
       "(14999, 10)"
      ]
     },
     "execution_count": 263,
     "metadata": {},
     "output_type": "execute_result"
    }
   ],
   "source": [
    "# 14999 rader (observasjoner) , 10 kolonner (features)\n",
    "hr_data.shape"
   ]
  },
  {
   "cell_type": "code",
   "execution_count": 264,
   "metadata": {
    "collapsed": false
   },
   "outputs": [
    {
     "data": {
      "text/html": [
       "<div>\n",
       "<table border=\"1\" class=\"dataframe\">\n",
       "  <thead>\n",
       "    <tr style=\"text-align: right;\">\n",
       "      <th></th>\n",
       "      <th>satisfaction_level</th>\n",
       "      <th>last_evaluation</th>\n",
       "      <th>number_project</th>\n",
       "      <th>average_montly_hours</th>\n",
       "      <th>time_spend_company</th>\n",
       "      <th>Work_accident</th>\n",
       "      <th>left</th>\n",
       "      <th>promotion_last_5years</th>\n",
       "    </tr>\n",
       "  </thead>\n",
       "  <tbody>\n",
       "    <tr>\n",
       "      <th>count</th>\n",
       "      <td>14999.000000</td>\n",
       "      <td>14999.000000</td>\n",
       "      <td>14999.000000</td>\n",
       "      <td>14999.000000</td>\n",
       "      <td>14999.000000</td>\n",
       "      <td>14999.000000</td>\n",
       "      <td>14999.000000</td>\n",
       "      <td>14999.000000</td>\n",
       "    </tr>\n",
       "    <tr>\n",
       "      <th>mean</th>\n",
       "      <td>0.612834</td>\n",
       "      <td>0.716102</td>\n",
       "      <td>3.803054</td>\n",
       "      <td>201.050337</td>\n",
       "      <td>3.498233</td>\n",
       "      <td>0.144610</td>\n",
       "      <td>0.238083</td>\n",
       "      <td>0.021268</td>\n",
       "    </tr>\n",
       "    <tr>\n",
       "      <th>std</th>\n",
       "      <td>0.248631</td>\n",
       "      <td>0.171169</td>\n",
       "      <td>1.232592</td>\n",
       "      <td>49.943099</td>\n",
       "      <td>1.460136</td>\n",
       "      <td>0.351719</td>\n",
       "      <td>0.425924</td>\n",
       "      <td>0.144281</td>\n",
       "    </tr>\n",
       "    <tr>\n",
       "      <th>min</th>\n",
       "      <td>0.090000</td>\n",
       "      <td>0.360000</td>\n",
       "      <td>2.000000</td>\n",
       "      <td>96.000000</td>\n",
       "      <td>2.000000</td>\n",
       "      <td>0.000000</td>\n",
       "      <td>0.000000</td>\n",
       "      <td>0.000000</td>\n",
       "    </tr>\n",
       "    <tr>\n",
       "      <th>25%</th>\n",
       "      <td>0.440000</td>\n",
       "      <td>0.560000</td>\n",
       "      <td>3.000000</td>\n",
       "      <td>156.000000</td>\n",
       "      <td>3.000000</td>\n",
       "      <td>0.000000</td>\n",
       "      <td>0.000000</td>\n",
       "      <td>0.000000</td>\n",
       "    </tr>\n",
       "    <tr>\n",
       "      <th>50%</th>\n",
       "      <td>0.640000</td>\n",
       "      <td>0.720000</td>\n",
       "      <td>4.000000</td>\n",
       "      <td>200.000000</td>\n",
       "      <td>3.000000</td>\n",
       "      <td>0.000000</td>\n",
       "      <td>0.000000</td>\n",
       "      <td>0.000000</td>\n",
       "    </tr>\n",
       "    <tr>\n",
       "      <th>75%</th>\n",
       "      <td>0.820000</td>\n",
       "      <td>0.870000</td>\n",
       "      <td>5.000000</td>\n",
       "      <td>245.000000</td>\n",
       "      <td>4.000000</td>\n",
       "      <td>0.000000</td>\n",
       "      <td>0.000000</td>\n",
       "      <td>0.000000</td>\n",
       "    </tr>\n",
       "    <tr>\n",
       "      <th>max</th>\n",
       "      <td>1.000000</td>\n",
       "      <td>1.000000</td>\n",
       "      <td>7.000000</td>\n",
       "      <td>310.000000</td>\n",
       "      <td>10.000000</td>\n",
       "      <td>1.000000</td>\n",
       "      <td>1.000000</td>\n",
       "      <td>1.000000</td>\n",
       "    </tr>\n",
       "  </tbody>\n",
       "</table>\n",
       "</div>"
      ],
      "text/plain": [
       "       satisfaction_level  last_evaluation  number_project  \\\n",
       "count        14999.000000     14999.000000    14999.000000   \n",
       "mean             0.612834         0.716102        3.803054   \n",
       "std              0.248631         0.171169        1.232592   \n",
       "min              0.090000         0.360000        2.000000   \n",
       "25%              0.440000         0.560000        3.000000   \n",
       "50%              0.640000         0.720000        4.000000   \n",
       "75%              0.820000         0.870000        5.000000   \n",
       "max              1.000000         1.000000        7.000000   \n",
       "\n",
       "       average_montly_hours  time_spend_company  Work_accident          left  \\\n",
       "count          14999.000000        14999.000000   14999.000000  14999.000000   \n",
       "mean             201.050337            3.498233       0.144610      0.238083   \n",
       "std               49.943099            1.460136       0.351719      0.425924   \n",
       "min               96.000000            2.000000       0.000000      0.000000   \n",
       "25%              156.000000            3.000000       0.000000      0.000000   \n",
       "50%              200.000000            3.000000       0.000000      0.000000   \n",
       "75%              245.000000            4.000000       0.000000      0.000000   \n",
       "max              310.000000           10.000000       1.000000      1.000000   \n",
       "\n",
       "       promotion_last_5years  \n",
       "count           14999.000000  \n",
       "mean                0.021268  \n",
       "std                 0.144281  \n",
       "min                 0.000000  \n",
       "25%                 0.000000  \n",
       "50%                 0.000000  \n",
       "75%                 0.000000  \n",
       "max                 1.000000  "
      ]
     },
     "execution_count": 264,
     "metadata": {},
     "output_type": "execute_result"
    }
   ],
   "source": [
    "hr_data.describe()"
   ]
  },
  {
   "cell_type": "code",
   "execution_count": 265,
   "metadata": {
    "collapsed": false
   },
   "outputs": [
    {
     "name": "stdout",
     "output_type": "stream",
     "text": [
      "<class 'pandas.core.frame.DataFrame'>\n",
      "RangeIndex: 14999 entries, 0 to 14998\n",
      "Data columns (total 10 columns):\n",
      "satisfaction_level       14999 non-null float64\n",
      "last_evaluation          14999 non-null float64\n",
      "number_project           14999 non-null int64\n",
      "average_montly_hours     14999 non-null int64\n",
      "time_spend_company       14999 non-null int64\n",
      "Work_accident            14999 non-null int64\n",
      "left                     14999 non-null int64\n",
      "promotion_last_5years    14999 non-null int64\n",
      "sales                    14999 non-null object\n",
      "salary                   14999 non-null object\n",
      "dtypes: float64(2), int64(6), object(2)\n",
      "memory usage: 1.1+ MB\n"
     ]
    }
   ],
   "source": [
    "hr_data.info()"
   ]
  },
  {
   "cell_type": "markdown",
   "metadata": {},
   "source": [
    "### Endre input data\n",
    "Mange maskinlæringsalgoritmer er svake på å jobbe med String. Nevrale Nettverk er blant dem så vi må mappe om stringene. Vi mapper om alle strings til nummere som referer til hver sin string for en feature. F.eks så blir 'low' i 'salary' featuren til 0."
   ]
  },
  {
   "cell_type": "code",
   "execution_count": 266,
   "metadata": {
    "collapsed": false
   },
   "outputs": [
    {
     "data": {
      "text/plain": [
       "(array(['RandD', 'marketing', 'technical', 'IT', 'support', 'product_mng',\n",
       "        'sales', 'accounting', 'management', 'hr'], dtype=object),\n",
       " array(['low', 'medium', 'high'], dtype=object))"
      ]
     },
     "execution_count": 266,
     "metadata": {},
     "output_type": "execute_result"
    }
   ],
   "source": [
    "hr_data['sales'].unique(),hr_data['salary'].unique()"
   ]
  },
  {
   "cell_type": "code",
   "execution_count": 267,
   "metadata": {
    "collapsed": true
   },
   "outputs": [],
   "source": [
    "# Modellen vi skal bruke kan ikke håndtere String verdier så vi gjør dem om til numersike verdier. \n",
    "# Gjør om featuren (kolonnen) \"sales\" og featuren \"salary\".\n",
    "\n",
    "hr_data['sales'].replace(['sales', 'accounting', 'hr', 'technical', 'support', 'management',\n",
    "        'IT', 'product_mng', 'marketing', 'RandD'], [0, 1, 2, 3, 4, 5, 6, 7, 8, 9], inplace = True)\n",
    "\n",
    "hr_data['salary'].replace(['low', 'medium', 'high'], [0, 1, 2], inplace = True)"
   ]
  },
  {
   "cell_type": "markdown",
   "metadata": {},
   "source": [
    "## Korrelasjon\n",
    "Før vi begynner å lage en modell kan det være interessant å se litt nærmere på datasettet. Her har jeg laget en liten korrelasjonsmatrise slik at vi kan se på de linære forholdene mellom de forskjellige featurene i datasettet.\n",
    "\n"
   ]
  },
  {
   "cell_type": "code",
   "execution_count": 268,
   "metadata": {
    "collapsed": false
   },
   "outputs": [
    {
     "data": {
      "text/html": [
       "<div>\n",
       "<table border=\"1\" class=\"dataframe\">\n",
       "  <thead>\n",
       "    <tr style=\"text-align: right;\">\n",
       "      <th></th>\n",
       "      <th>satisfaction_level</th>\n",
       "      <th>last_evaluation</th>\n",
       "      <th>number_project</th>\n",
       "      <th>average_montly_hours</th>\n",
       "      <th>time_spend_company</th>\n",
       "      <th>Work_accident</th>\n",
       "      <th>left</th>\n",
       "      <th>promotion_last_5years</th>\n",
       "      <th>sales</th>\n",
       "      <th>salary</th>\n",
       "    </tr>\n",
       "  </thead>\n",
       "  <tbody>\n",
       "    <tr>\n",
       "      <th>satisfaction_level</th>\n",
       "      <td>1.000000</td>\n",
       "      <td>0.105021</td>\n",
       "      <td>-0.142970</td>\n",
       "      <td>-0.020048</td>\n",
       "      <td>-0.100866</td>\n",
       "      <td>0.058697</td>\n",
       "      <td>-0.388375</td>\n",
       "      <td>0.025605</td>\n",
       "      <td>0.015413</td>\n",
       "      <td>0.050022</td>\n",
       "    </tr>\n",
       "    <tr>\n",
       "      <th>last_evaluation</th>\n",
       "      <td>0.105021</td>\n",
       "      <td>1.000000</td>\n",
       "      <td>0.349333</td>\n",
       "      <td>0.339742</td>\n",
       "      <td>0.131591</td>\n",
       "      <td>-0.007104</td>\n",
       "      <td>0.006567</td>\n",
       "      <td>-0.008684</td>\n",
       "      <td>0.011855</td>\n",
       "      <td>-0.013002</td>\n",
       "    </tr>\n",
       "    <tr>\n",
       "      <th>number_project</th>\n",
       "      <td>-0.142970</td>\n",
       "      <td>0.349333</td>\n",
       "      <td>1.000000</td>\n",
       "      <td>0.417211</td>\n",
       "      <td>0.196786</td>\n",
       "      <td>-0.004741</td>\n",
       "      <td>0.023787</td>\n",
       "      <td>-0.006064</td>\n",
       "      <td>0.005577</td>\n",
       "      <td>-0.001803</td>\n",
       "    </tr>\n",
       "    <tr>\n",
       "      <th>average_montly_hours</th>\n",
       "      <td>-0.020048</td>\n",
       "      <td>0.339742</td>\n",
       "      <td>0.417211</td>\n",
       "      <td>1.000000</td>\n",
       "      <td>0.127755</td>\n",
       "      <td>-0.010143</td>\n",
       "      <td>0.071287</td>\n",
       "      <td>-0.003544</td>\n",
       "      <td>-0.002387</td>\n",
       "      <td>-0.002242</td>\n",
       "    </tr>\n",
       "    <tr>\n",
       "      <th>time_spend_company</th>\n",
       "      <td>-0.100866</td>\n",
       "      <td>0.131591</td>\n",
       "      <td>0.196786</td>\n",
       "      <td>0.127755</td>\n",
       "      <td>1.000000</td>\n",
       "      <td>0.002120</td>\n",
       "      <td>0.144822</td>\n",
       "      <td>0.067433</td>\n",
       "      <td>-0.001611</td>\n",
       "      <td>0.048715</td>\n",
       "    </tr>\n",
       "    <tr>\n",
       "      <th>Work_accident</th>\n",
       "      <td>0.058697</td>\n",
       "      <td>-0.007104</td>\n",
       "      <td>-0.004741</td>\n",
       "      <td>-0.010143</td>\n",
       "      <td>0.002120</td>\n",
       "      <td>1.000000</td>\n",
       "      <td>-0.154622</td>\n",
       "      <td>0.039245</td>\n",
       "      <td>0.019215</td>\n",
       "      <td>0.009247</td>\n",
       "    </tr>\n",
       "    <tr>\n",
       "      <th>left</th>\n",
       "      <td>-0.388375</td>\n",
       "      <td>0.006567</td>\n",
       "      <td>0.023787</td>\n",
       "      <td>0.071287</td>\n",
       "      <td>0.144822</td>\n",
       "      <td>-0.154622</td>\n",
       "      <td>1.000000</td>\n",
       "      <td>-0.061788</td>\n",
       "      <td>-0.043814</td>\n",
       "      <td>-0.157898</td>\n",
       "    </tr>\n",
       "    <tr>\n",
       "      <th>promotion_last_5years</th>\n",
       "      <td>0.025605</td>\n",
       "      <td>-0.008684</td>\n",
       "      <td>-0.006064</td>\n",
       "      <td>-0.003544</td>\n",
       "      <td>0.067433</td>\n",
       "      <td>0.039245</td>\n",
       "      <td>-0.061788</td>\n",
       "      <td>1.000000</td>\n",
       "      <td>0.015170</td>\n",
       "      <td>0.098119</td>\n",
       "    </tr>\n",
       "    <tr>\n",
       "      <th>sales</th>\n",
       "      <td>0.015413</td>\n",
       "      <td>0.011855</td>\n",
       "      <td>0.005577</td>\n",
       "      <td>-0.002387</td>\n",
       "      <td>-0.001611</td>\n",
       "      <td>0.019215</td>\n",
       "      <td>-0.043814</td>\n",
       "      <td>0.015170</td>\n",
       "      <td>1.000000</td>\n",
       "      <td>0.033415</td>\n",
       "    </tr>\n",
       "    <tr>\n",
       "      <th>salary</th>\n",
       "      <td>0.050022</td>\n",
       "      <td>-0.013002</td>\n",
       "      <td>-0.001803</td>\n",
       "      <td>-0.002242</td>\n",
       "      <td>0.048715</td>\n",
       "      <td>0.009247</td>\n",
       "      <td>-0.157898</td>\n",
       "      <td>0.098119</td>\n",
       "      <td>0.033415</td>\n",
       "      <td>1.000000</td>\n",
       "    </tr>\n",
       "  </tbody>\n",
       "</table>\n",
       "</div>"
      ],
      "text/plain": [
       "                       satisfaction_level  last_evaluation  number_project  \\\n",
       "satisfaction_level               1.000000         0.105021       -0.142970   \n",
       "last_evaluation                  0.105021         1.000000        0.349333   \n",
       "number_project                  -0.142970         0.349333        1.000000   \n",
       "average_montly_hours            -0.020048         0.339742        0.417211   \n",
       "time_spend_company              -0.100866         0.131591        0.196786   \n",
       "Work_accident                    0.058697        -0.007104       -0.004741   \n",
       "left                            -0.388375         0.006567        0.023787   \n",
       "promotion_last_5years            0.025605        -0.008684       -0.006064   \n",
       "sales                            0.015413         0.011855        0.005577   \n",
       "salary                           0.050022        -0.013002       -0.001803   \n",
       "\n",
       "                       average_montly_hours  time_spend_company  \\\n",
       "satisfaction_level                -0.020048           -0.100866   \n",
       "last_evaluation                    0.339742            0.131591   \n",
       "number_project                     0.417211            0.196786   \n",
       "average_montly_hours               1.000000            0.127755   \n",
       "time_spend_company                 0.127755            1.000000   \n",
       "Work_accident                     -0.010143            0.002120   \n",
       "left                               0.071287            0.144822   \n",
       "promotion_last_5years             -0.003544            0.067433   \n",
       "sales                             -0.002387           -0.001611   \n",
       "salary                            -0.002242            0.048715   \n",
       "\n",
       "                       Work_accident      left  promotion_last_5years  \\\n",
       "satisfaction_level          0.058697 -0.388375               0.025605   \n",
       "last_evaluation            -0.007104  0.006567              -0.008684   \n",
       "number_project             -0.004741  0.023787              -0.006064   \n",
       "average_montly_hours       -0.010143  0.071287              -0.003544   \n",
       "time_spend_company          0.002120  0.144822               0.067433   \n",
       "Work_accident               1.000000 -0.154622               0.039245   \n",
       "left                       -0.154622  1.000000              -0.061788   \n",
       "promotion_last_5years       0.039245 -0.061788               1.000000   \n",
       "sales                       0.019215 -0.043814               0.015170   \n",
       "salary                      0.009247 -0.157898               0.098119   \n",
       "\n",
       "                          sales    salary  \n",
       "satisfaction_level     0.015413  0.050022  \n",
       "last_evaluation        0.011855 -0.013002  \n",
       "number_project         0.005577 -0.001803  \n",
       "average_montly_hours  -0.002387 -0.002242  \n",
       "time_spend_company    -0.001611  0.048715  \n",
       "Work_accident          0.019215  0.009247  \n",
       "left                  -0.043814 -0.157898  \n",
       "promotion_last_5years  0.015170  0.098119  \n",
       "sales                  1.000000  0.033415  \n",
       "salary                 0.033415  1.000000  "
      ]
     },
     "execution_count": 268,
     "metadata": {},
     "output_type": "execute_result"
    },
    {
     "data": {
      "image/png": "[encoded data removed]",
      "text/plain": [
       "<matplotlib.figure.Figure at 0x123dcee80>"
      ]
     },
     "metadata": {},
     "output_type": "display_data"
    }
   ],
   "source": [
    "# Korrelasjon Matrise\n",
    "corr = hr_data.corr()\n",
    "corr = (corr)\n",
    "sns.heatmap(corr, \n",
    "            xticklabels=corr.columns.values,\n",
    "            yticklabels=corr.columns.values)\n",
    "sns.plt.title('Heatmap of Correlation Matrix')\n",
    "corr"
   ]
  },
  {
   "cell_type": "code",
   "execution_count": 269,
   "metadata": {
    "collapsed": false
   },
   "outputs": [
    {
     "data": {
      "text/html": [
       "<div>\n",
       "<table border=\"1\" class=\"dataframe\">\n",
       "  <thead>\n",
       "    <tr style=\"text-align: right;\">\n",
       "      <th></th>\n",
       "      <th>left</th>\n",
       "    </tr>\n",
       "  </thead>\n",
       "  <tbody>\n",
       "    <tr>\n",
       "      <th>time_spend_company</th>\n",
       "      <td>0.144822</td>\n",
       "    </tr>\n",
       "    <tr>\n",
       "      <th>average_montly_hours</th>\n",
       "      <td>0.071287</td>\n",
       "    </tr>\n",
       "    <tr>\n",
       "      <th>number_project</th>\n",
       "      <td>0.023787</td>\n",
       "    </tr>\n",
       "    <tr>\n",
       "      <th>last_evaluation</th>\n",
       "      <td>0.006567</td>\n",
       "    </tr>\n",
       "    <tr>\n",
       "      <th>sales</th>\n",
       "      <td>-0.043814</td>\n",
       "    </tr>\n",
       "    <tr>\n",
       "      <th>promotion_last_5years</th>\n",
       "      <td>-0.061788</td>\n",
       "    </tr>\n",
       "    <tr>\n",
       "      <th>Work_accident</th>\n",
       "      <td>-0.154622</td>\n",
       "    </tr>\n",
       "    <tr>\n",
       "      <th>salary</th>\n",
       "      <td>-0.157898</td>\n",
       "    </tr>\n",
       "    <tr>\n",
       "      <th>satisfaction_level</th>\n",
       "      <td>-0.388375</td>\n",
       "    </tr>\n",
       "  </tbody>\n",
       "</table>\n",
       "</div>"
      ],
      "text/plain": [
       "                           left\n",
       "time_spend_company     0.144822\n",
       "average_montly_hours   0.071287\n",
       "number_project         0.023787\n",
       "last_evaluation        0.006567\n",
       "sales                 -0.043814\n",
       "promotion_last_5years -0.061788\n",
       "Work_accident         -0.154622\n",
       "salary                -0.157898\n",
       "satisfaction_level    -0.388375"
      ]
     },
     "execution_count": 269,
     "metadata": {},
     "output_type": "execute_result"
    }
   ],
   "source": [
    "# Ser her kun på \"label som er left\" fordi det er den verdien vi ønsker å se features effekt på.\n",
    "# Korrelasjonmatrisen viser kun linære forhold mellom \"left\" og de andre avhengige variablene.\n",
    "corr_left = pd.DataFrame(corr['left'].drop('left'))\n",
    "corr_left.sort_values(by = 'left', ascending = False)"
   ]
  },
  {
   "cell_type": "markdown",
   "metadata": {},
   "source": [
    "Over kan vi se det linære forholdet mellom våre features og \"left\". Ikke overraskende så korrelerer \"satisfaction_level\" negativt med \"left\"\n",
    "\n",
    "\n",
    "\n",
    "# Tensorflow Neural Network Model\n",
    "\n",
    "## Splitting av dataset\n",
    "\n",
    "For å bygge en maksinkæringsmodell ønsker man å dele opp datasett inn i et treningsett og testsett. Treningsettet brukes til å trene opp modellen, mens testsett brukes for å teste treffsikkerheten til modellen. Her har jeg valgt å dele inn datasette 80% trening og 20% test.\n",
    "\n",
    "I mange maskinslæringsmodeller er det også vanlig å ha med et validersinsett. Dette sette brukes til å sette/tune hyperparametere (f.eks læringsrate).\n",
    "For simpelhetens skyld dropper vi å ta med valideringsett her da det ikke spiller noen viktige rolle i denne tutorialen. \n",
    "\n"
   ]
  },
  {
   "cell_type": "code",
   "execution_count": 270,
   "metadata": {
    "collapsed": false
   },
   "outputs": [],
   "source": [
    "#Train-Test split. Splitter \n",
    "from sklearn.model_selection import train_test_split\n"
   ]
  },
  {
   "cell_type": "markdown",
   "metadata": {},
   "source": [
    "\n",
    "Siden vi ønsker å finne ut av hvilke ansatt sannsynligvis snart slutter(left), så må vi \"ta ut\" \"left\" kolonnen fra datasette. Dette blir da den avhengige variabelen i modellen."
   ]
  },
  {
   "cell_type": "code",
   "execution_count": 271,
   "metadata": {
    "collapsed": true
   },
   "outputs": [],
   "source": [
    "label = hr_data.pop('left')"
   ]
  },
  {
   "cell_type": "code",
   "execution_count": 272,
   "metadata": {
    "collapsed": false
   },
   "outputs": [],
   "source": [
    "data_train, data_test, label_train, label_test = train_test_split(hr_data, label, test_size = 0.2, random_state = 42)"
   ]
  },
  {
   "cell_type": "code",
   "execution_count": 273,
   "metadata": {
    "collapsed": false
   },
   "outputs": [
    {
     "data": {
      "text/html": [
       "<div>\n",
       "<table border=\"1\" class=\"dataframe\">\n",
       "  <thead>\n",
       "    <tr style=\"text-align: right;\">\n",
       "      <th></th>\n",
       "      <th>satisfaction_level</th>\n",
       "      <th>last_evaluation</th>\n",
       "      <th>number_project</th>\n",
       "      <th>average_montly_hours</th>\n",
       "      <th>time_spend_company</th>\n",
       "      <th>Work_accident</th>\n",
       "      <th>promotion_last_5years</th>\n",
       "      <th>sales</th>\n",
       "      <th>salary</th>\n",
       "    </tr>\n",
       "  </thead>\n",
       "  <tbody>\n",
       "    <tr>\n",
       "      <th>9838</th>\n",
       "      <td>0.41</td>\n",
       "      <td>0.45</td>\n",
       "      <td>2</td>\n",
       "      <td>150</td>\n",
       "      <td>3</td>\n",
       "      <td>0</td>\n",
       "      <td>0</td>\n",
       "      <td>4</td>\n",
       "      <td>1</td>\n",
       "    </tr>\n",
       "    <tr>\n",
       "      <th>7689</th>\n",
       "      <td>0.63</td>\n",
       "      <td>0.91</td>\n",
       "      <td>4</td>\n",
       "      <td>252</td>\n",
       "      <td>3</td>\n",
       "      <td>1</td>\n",
       "      <td>0</td>\n",
       "      <td>4</td>\n",
       "      <td>1</td>\n",
       "    </tr>\n",
       "    <tr>\n",
       "      <th>6557</th>\n",
       "      <td>0.65</td>\n",
       "      <td>0.95</td>\n",
       "      <td>3</td>\n",
       "      <td>266</td>\n",
       "      <td>3</td>\n",
       "      <td>1</td>\n",
       "      <td>0</td>\n",
       "      <td>4</td>\n",
       "      <td>0</td>\n",
       "    </tr>\n",
       "    <tr>\n",
       "      <th>6872</th>\n",
       "      <td>0.67</td>\n",
       "      <td>0.83</td>\n",
       "      <td>3</td>\n",
       "      <td>220</td>\n",
       "      <td>3</td>\n",
       "      <td>0</td>\n",
       "      <td>0</td>\n",
       "      <td>0</td>\n",
       "      <td>0</td>\n",
       "    </tr>\n",
       "    <tr>\n",
       "      <th>820</th>\n",
       "      <td>0.86</td>\n",
       "      <td>0.69</td>\n",
       "      <td>5</td>\n",
       "      <td>157</td>\n",
       "      <td>4</td>\n",
       "      <td>0</td>\n",
       "      <td>0</td>\n",
       "      <td>4</td>\n",
       "      <td>0</td>\n",
       "    </tr>\n",
       "  </tbody>\n",
       "</table>\n",
       "</div>"
      ],
      "text/plain": [
       "      satisfaction_level  last_evaluation  number_project  \\\n",
       "9838                0.41             0.45               2   \n",
       "7689                0.63             0.91               4   \n",
       "6557                0.65             0.95               3   \n",
       "6872                0.67             0.83               3   \n",
       "820                 0.86             0.69               5   \n",
       "\n",
       "      average_montly_hours  time_spend_company  Work_accident  \\\n",
       "9838                   150                   3              0   \n",
       "7689                   252                   3              1   \n",
       "6557                   266                   3              1   \n",
       "6872                   220                   3              0   \n",
       "820                    157                   4              0   \n",
       "\n",
       "      promotion_last_5years  sales  salary  \n",
       "9838                      0      4       1  \n",
       "7689                      0      4       1  \n",
       "6557                      0      4       0  \n",
       "6872                      0      0       0  \n",
       "820                       0      4       0  "
      ]
     },
     "execution_count": 273,
     "metadata": {},
     "output_type": "execute_result"
    }
   ],
   "source": [
    "# Titter bare på de første elementene i det \"nye\" datasettet uten \"left\" kolonnen\n",
    "data_train.head()"
   ]
  },
  {
   "cell_type": "code",
   "execution_count": 274,
   "metadata": {
    "collapsed": false
   },
   "outputs": [],
   "source": [
    "# Gjør om Pandas DataFrame til python arrays da de er letter å jobbe med. \n",
    "x_train = data_train.values\n",
    "x_test = data_test.values\n",
    "y_train = label_train.values\n",
    "y_test_cls  = label_test.values"
   ]
  },
  {
   "cell_type": "code",
   "execution_count": 275,
   "metadata": {
    "collapsed": false
   },
   "outputs": [
    {
     "name": "stdout",
     "output_type": "stream",
     "text": [
      "Shape X-train:  (11999, 9)\n",
      "Shape Y-train:  (11999,)\n",
      "Shape X-test:  (3000, 9)\n",
      "Shape Y-test:  (3000,)\n",
      "Shaper new label train: (11999, 1)\n",
      "Shaper new label test: (3000, 1)\n"
     ]
    }
   ],
   "source": [
    "# 8999 rader med inputs. 9 kolonner med features\n",
    "print (\"Shape X-train: \", data_train.shape)\n",
    "print (\"Shape Y-train: \", label_train.shape)\n",
    "print (\"Shape X-test: \", data_test.shape)\n",
    "print (\"Shape Y-test: \", label_test.shape)\n",
    "\n",
    "label_train = pd.DataFrame(label_train.values.reshape((11999,1)))\n",
    "label_test = pd.DataFrame(label_test.values.reshape((3000,1)))\n",
    "print (\"Shaper new label train: {}\".format(label_train.shape))\n",
    "print (\"Shaper new label test: {}\".format(label_test.shape))"
   ]
  },
  {
   "cell_type": "markdown",
   "metadata": {},
   "source": [
    "## Placeholders\n",
    "\n",
    "Som nevnt tidligere er placeholeder containere/arrays som ikke inneholder noen verdi før en Tensorflow Session blir kjørt og man fyllter opp placeholderene med verdier. Placeholderen kan få inn forksjellige inputs(data) ved hver kjøring og det skjer ingen tuning eller optimering av disse. \n",
    "\n",
    "Før vi definerer placeholdere må vi bestemme oss for hvor mange \"layers\" det skal være i nettverkt, og hvor mange hidden units som skal være i hvert layer. Her har jeg valgt å gjøre det enklest mulig. Det er kun 1 hidden layer, og i dette layer så ligger det 9 noder, som er like mange noder som det er i input layer.\n",
    "\n",
    "I input layer er det alltid like mange noder som er features i modellen, så vi stter antall kolonner i placeholder til antall features. Antall rader setter vi til \"None\" noe som betyr at man kan fylle opp placeholderen med et vilkårlig antall ansatt-data.\n",
    "\n",
    "Input data er i dette tilfelle data for 1 ansatt/person.\n"
   ]
  },
  {
   "cell_type": "code",
   "execution_count": 276,
   "metadata": {
    "collapsed": true
   },
   "outputs": [],
   "source": [
    "# La oss velge layers. 9 input_units, en for hver feature. 9 hidden er valgt random, for simplicity.\n",
    "# La oss lage en konstant som holder antall features.\n",
    "ANTALL_FEATURES = 9\n",
    "input_units = 9\n",
    "HIDDEN_UNITS = 9\n",
    "OUTPUT_UNITS = 2"
   ]
  },
  {
   "cell_type": "code",
   "execution_count": 277,
   "metadata": {
    "collapsed": true
   },
   "outputs": [],
   "source": [
    "# Siden X(inputs) ikke skal forandres/tunes så lager vi en Placeholder for disse verdiene\n",
    "# Placeholders er for verdier som skal/kan endres for hver kjøring av grafen.\n",
    "# Placeholders blir det ikke regner Gradien (partiel deriverte) for \n",
    "\n",
    "# Bruke \"None\" som man kan ha et ukjent antall observasjon/rader inn til X\n",
    "x_placeh = tf.placeholder(tf.float32, shape=[None, ANTALL_FEATURES])"
   ]
  },
  {
   "cell_type": "code",
   "execution_count": 278,
   "metadata": {
    "collapsed": false
   },
   "outputs": [],
   "source": [
    "\n",
    "y_placeh = tf.placeholder(tf.float32, shape=[None,OUTPUT_UNITS])"
   ]
  },
  {
   "cell_type": "code",
   "execution_count": 279,
   "metadata": {
    "collapsed": true
   },
   "outputs": [],
   "source": [
    "y_true_cls_placeh = tf.placeholder(tf.int64, [None])"
   ]
  },
  {
   "cell_type": "code",
   "execution_count": null,
   "metadata": {
    "collapsed": true
   },
   "outputs": [],
   "source": [
    "\n"
   ]
  },
  {
   "cell_type": "code",
   "execution_count": 280,
   "metadata": {
    "collapsed": true
   },
   "outputs": [],
   "source": [
    "# Konvertere heltall verdi til forskjellige klassifiseringer. 1 blir [1,0] og 0 blir [0, 1] \n",
    "def dense_to_one_hot(labels_dense, num_classes=10):\n",
    "    \n",
    "    num_labels = labels_dense.shape[0]\n",
    "    index_offset = np.arange(num_labels) * num_classes\n",
    "    labels_one_hot = np.zeros((num_labels, num_classes))\n",
    "    labels_one_hot.flat[index_offset + labels_dense.ravel()] = 1\n",
    "    \n",
    "    return labels_one_hot"
   ]
  },
  {
   "cell_type": "code",
   "execution_count": 281,
   "metadata": {
    "collapsed": false
   },
   "outputs": [],
   "source": [
    "y_hot_train = dense_to_one_hot(y_train, 2)\n",
    "y_hot_test = dense_to_one_hot(y_test_cls, 2)\n"
   ]
  },
  {
   "cell_type": "markdown",
   "metadata": {},
   "source": [
    "## Weights og Biases\n",
    "Setter default weights/koefisientene for datasettet. Random verdi mellom -1 og 1. Alle verdier like sannsynlig.\n",
    "\n",
    "Vektene er hva som ligger på edges(kantene) fra en node i et lag, si (n-layer), til alle noden i lag (n-layer+1)\n",
    "Siden vi har 9 features, har vi 9 input noder. Siden hver input node har 9 kanter, så får vi totalt her 9*9 weights og kanter fra input layer til hidden layer. \n",
    "\n",
    "Hver rad i (input_units, hidden_units) kan man se på som weights for kantene for en input_node mot hidden_layer. Siden det er 9 kanter ut fra hver input node, så får vi 9 kolonner i hver rad. Så weights matrisen har shape (9, 9) mot hidden layer.\n",
    "\n",
    "Fra hidden layer til output_layer får vi matrise (9, 2) siden det er 9 noder i hidden layer og 2 i output layer. \n",
    "\n",
    "Jeg har valgt å bruke 2 classifications for \"left\". En for om den ansatte har forlatt bedriften, og en for om ansatte ikke har forlatt. \n",
    "(PS: Det finnes andre kanskje bedre måter å gjøre dette på når det er binær classification. Jeg fikk det bare ikke til å virke særlig bra.....)\n",
    "\n",
    "### Variabler T.F\n",
    "Weights og Biases er variabler fordi de skal optimeres/tunes for å gjøre modellen bedre. Gjennom flere kjøring gjennomgrafen innenfor samme Session, så vil disse Variable endre verdi. Verdiene blir endret basert på en kostnadsverdi som sier noe om hvor god modellen vår er til å predikere datasettet. Kommer tilbake til dette litt lenger ned. "
   ]
  },
  {
   "cell_type": "code",
   "execution_count": 282,
   "metadata": {
    "collapsed": false
   },
   "outputs": [],
   "source": [
    "\n",
    "weights = {\n",
    "    'hidden': tf.Variable(tf.random_uniform((ANTALL_FEATURES, HIDDEN_UNITS), -1, 1), dtype=tf.float32),\n",
    "    'output': tf.Variable(tf.random_normal( (HIDDEN_UNITS, OUTPUT_UNITS), -1, 1), dtype=tf.float32)\n",
    "}"
   ]
  },
  {
   "cell_type": "code",
   "execution_count": 283,
   "metadata": {
    "collapsed": false
   },
   "outputs": [],
   "source": [
    "biases = {\n",
    "    'hidden': tf.Variable(tf.random_normal([HIDDEN_UNITS]), dtype=tf.float32) ,\n",
    "    'output': tf.Variable(tf.random_normal([OUTPUT_UNITS]), dtype=tf.float32)\n",
    "}"
   ]
  },
  {
   "cell_type": "markdown",
   "metadata": {},
   "source": [
    "# Oppbygging av modell i Tensorflow graf\n",
    "Så nå kan vi endelig begynne å bygge opp kalkulasjonene, noe som i Tensorflow betyr å bygge opp grafen med Operations.\n",
    "\n",
    "Første vi ønsker å gjøre å bygge opp graf for kalkulasjonen vi trenger å gjøre for å regne ut Activation noder i hidden layer. Dette gjøres ved å multiplisere input verdiene X, med tilhørende weights på kanter inn mot Activation node. Når X og Weights blir multiplisert, så blir hver observasjon/ansatt(rad) i X, multiplisert med alle vekter i Weights matrisen.\n",
    "For å gjøre dette i TF så bruker vi operasjonen \"tf.matmul()\" som tar inn tensorene(aka n-arrays) som skal multipliseres.\n",
    "\n",
    "(Activation node = navnet på en node i Hidden layers)\n",
    "\n",
    "Resultat fra multiplikasjonen ligger i \"hidden_multi\". Det er en ny Tensor(matrise) med shape(antall_ansatte_data, antall_output) (uvisst, 2). Dette er fordi \"x\" har shape (antall_ansatte, antall_features) og \"weights\" har shape (antall_features, antall_hidden_untis), og dette til sammen gir en Tensor med shape (antall_ansatte_data, antall_hidden_units). \n",
    "Denne utregningen har gitt oss vektet sum for alle Activation nodes(hidden layer noder) i første hidden layer.\n",
    "\n",
    "PS --> shape = (rader, kolonner).\n",
    "\n",
    "Vi legger til slutt på bias med \"tf.add\". \n"
   ]
  },
  {
   "cell_type": "code",
   "execution_count": 284,
   "metadata": {
    "collapsed": false
   },
   "outputs": [],
   "source": [
    "hidden_multi = tf.matmul(x_placeh, weights['hidden'])\n",
    "\n",
    "hidden_layer = tf.add(hidden_multi, biases['hidden'])"
   ]
  },
  {
   "cell_type": "markdown",
   "metadata": {},
   "source": [
    "\n",
    "Now logits is a matrix with num_images rows and num_classes columns, where the element of the $i$'th row and $j$'th column is an estimate of how likely the $i$'th input image is to be of the $j$'th class.\n",
    "However, these estimates are a bit rough and difficult to interpret because the numbers may be very small or large, so we want to normalize them so that each row of the logits matrix sums to one, and each element is limited between zero and one. This is calculated using the so-called relu function and the result is stored in hidden_layer."
   ]
  },
  {
   "cell_type": "code",
   "execution_count": 285,
   "metadata": {
    "collapsed": false
   },
   "outputs": [],
   "source": [
    "hidden_layer_h = tf.nn.relu(hidden_layer)\n"
   ]
  },
  {
   "cell_type": "markdown",
   "metadata": {},
   "source": [
    "."
   ]
  },
  {
   "cell_type": "code",
   "execution_count": 286,
   "metadata": {
    "collapsed": false
   },
   "outputs": [],
   "source": [
    "output_layer = tf.matmul(hidden_layer_h, weights['output']) + biases['output']"
   ]
  },
  {
   "cell_type": "markdown",
   "metadata": {},
   "source": [
    "I output layer ligger nå 2 verdier som ikke gir så mye mening i seg selv, men de representerer sannsynligheten for at en observasjon er \"left=1\" og \"left=0\". For å få tallene på en litt mer normal sannsynlighetsformat bruker vi Softmax. Denne presser sammen tallen slik at tallene fra begge(alle) outputtene summeres opp til totalt 1. Tallene kan nå tolkes som sannsynligheter. \n",
    "\n",
    "For å avgjøre hvilke av de to klassen som blir predikert, tar vi bare den med høyest sannsynlighet av de to. \n",
    "Dette gjøres ved bruk av \"argmax\" som tar det høyeste verdien over en akse i matrisen. "
   ]
  },
  {
   "cell_type": "code",
   "execution_count": 287,
   "metadata": {
    "collapsed": true
   },
   "outputs": [],
   "source": [
    "y_pred = tf.nn.softmax(output_layer)"
   ]
  },
  {
   "cell_type": "code",
   "execution_count": 288,
   "metadata": {
    "collapsed": false
   },
   "outputs": [],
   "source": [
    "# Finner ekte predikert klasse i 1 og 0 type. Ikke klasse type. Går på kolonner\n",
    "y_pred_cls = tf.argmax(y_pred, dimension=1)"
   ]
  },
  {
   "cell_type": "code",
   "execution_count": null,
   "metadata": {
    "collapsed": true
   },
   "outputs": [],
   "source": [
    "\n"
   ]
  },
  {
   "cell_type": "markdown",
   "metadata": {},
   "source": [
    "# Cost\n",
    "\n",
    "For å kunne optimalisere modellen vår så trenger vi en måte å måle kostnad for Nettverket på et gitt tidspunkt. Med andre ord, hvor mye bommer vår modell med predikeringen på et gitt tidspunkt. Man sammenligner da predikert verdi med faktisk observert verdi. \n",
    "Dette blir representerte ved \"cross_e_cost\" som er et positivt tall. Ikke Tensor.\n",
    "\n",
    "Cross-Entropy er en function som måler hvor god modellen vår er. Den gir alltid et positivt resultat og hvis modellens prediksjoner er helt lik faktiske observasjon, så vil cross-entropy outputte 0. Målet for optimalisering er derfor å minimalisere outputten fra cross_entropy ved å tune Variablene i grafen. Her blir det \"Weights\" og \"Biases\". \n"
   ]
  },
  {
   "cell_type": "code",
   "execution_count": 289,
   "metadata": {
    "collapsed": false
   },
   "outputs": [],
   "source": [
    "cross_e_cost = tf.nn.softmax_cross_entropy_with_logits(logits=output_layer, labels=y_placeh)"
   ]
  },
  {
   "cell_type": "markdown",
   "metadata": {},
   "source": [
    "Her blir bare gjennomsnittlig kostnad for alle predikeringene lagt sammen til en kostnads-scalar. "
   ]
  },
  {
   "cell_type": "code",
   "execution_count": 290,
   "metadata": {
    "collapsed": true
   },
   "outputs": [],
   "source": [
    "cost = tf.reduce_mean(cross_e_cost)"
   ]
  },
  {
   "cell_type": "markdown",
   "metadata": {
    "collapsed": true
   },
   "source": [
    "# Optimering\n",
    "Så til optimering. Her må vi velge en algoritme vi ønsker å bruke for å optimere modellen vår. Jeg kommer bare til å bruke vanilla Gradient Descent da den er den mest kjente utgaven av Gradient Descent, men Tensorflow har mange forskjellig optimeringsmodeller tilgjengelig som bygger på samme prinsimm som GD.\n",
    "\n",
    "Når man kaller \".minimize\" i optimizer vil Tensorflow kalkulere den partiellderiverte(Gradient) med hensyn på \"cross_e_cost\" for alle Variables som er i kalkulasjonsgrafen som bestemmer modellens kostnad. Videre bruker modellen disse deriverte til å optimalisere weights og biases i modellen for å minimere kostnaden.  \n",
    "\n",
    "Learing Rate har jeg bare valgt å sette til 0.05 . Det er ganske random. Skal man gjøre det grundig bruker man gjerne Valideringssettet av datasettet for å finne den beste læringsraten."
   ]
  },
  {
   "cell_type": "code",
   "execution_count": 291,
   "metadata": {
    "collapsed": false
   },
   "outputs": [],
   "source": [
    "# Learning Rate er også valgt litt tilfeldig innfor rimlighet\n",
    "learning_rate = 0.05\n",
    "optimizer = tf.train.GradientDescentOptimizer(learning_rate=0.05).minimize(cost)"
   ]
  },
  {
   "cell_type": "code",
   "execution_count": 292,
   "metadata": {
    "collapsed": false
   },
   "outputs": [],
   "source": [
    "#Accuracy stuff \n",
    "correct_prediction = tf.equal(y_pred_cls, y_true_cls_placeh)\n",
    "\n",
    "# Regner accuracy\n",
    "accuracy = tf.reduce_mean(tf.cast(correct_prediction, tf.float32))"
   ]
  },
  {
   "cell_type": "code",
   "execution_count": null,
   "metadata": {
    "collapsed": false
   },
   "outputs": [],
   "source": []
  },
  {
   "cell_type": "code",
   "execution_count": 293,
   "metadata": {
    "collapsed": true
   },
   "outputs": [],
   "source": [
    "# Initialiserer noen faste variabler. \n",
    "# Epoch -> Hvor mange ganger man går igjenom datasettet for å trene\n",
    "# Batch størrelse -> Hvor mange observasjoner(Ansatte) skal vi trene på om gangen.\n",
    "\n",
    "epochs = 5\n",
    "batch_str = 200\n"
   ]
  },
  {
   "cell_type": "code",
   "execution_count": 294,
   "metadata": {
    "collapsed": false
   },
   "outputs": [],
   "source": [
    "# Her kan vi legge til seed senere kanskje\n",
    "#[row,col]. Så [0:10,:] betyr hent rad 0 til 10 og ta med alle kolonner\n",
    "\n",
    "def lag_en_batch(batch_str, dataset_x, dataset_label, antall_batch_kjørt):\n",
    "    start = batch_str * antall_batch_kjørt\n",
    "    stop = start + batch_str\n",
    "    if stop > len(data_train):\n",
    "        stop = len(data_train)\n",
    "    batch_x = dataset_x[ start:stop, 0:ANTALL_FEATURES ]  \n",
    "    batch_label = dataset_label[start:stop]\n",
    "    return batch_x, batch_label"
   ]
  },
  {
   "cell_type": "code",
   "execution_count": 295,
   "metadata": {
    "collapsed": false
   },
   "outputs": [],
   "source": [
    "\n",
    "feed_dict_test = {x_placeh: x_test,\n",
    "                  y_placeh: y_hot_train,\n",
    "                  y_true_cls_placeh: y_test_cls}"
   ]
  },
  {
   "cell_type": "code",
   "execution_count": 296,
   "metadata": {
    "collapsed": true
   },
   "outputs": [],
   "source": [
    "def print_accuracy():\n",
    "    # Use TensorFlow to compute the accuracy.\n",
    "    acc = sess.run(accuracy, feed_dict=feed_dict_test)\n",
    "    \n",
    "    # Print the accuracy.\n",
    "    print(\"Accuracy on test-set: {0:.1%}\".format(acc))"
   ]
  },
  {
   "cell_type": "code",
   "execution_count": null,
   "metadata": {
    "collapsed": true
   },
   "outputs": [],
   "source": []
  },
  {
   "cell_type": "code",
   "execution_count": 297,
   "metadata": {
    "collapsed": false
   },
   "outputs": [
    {
     "name": "stdout",
     "output_type": "stream",
     "text": [
      "WARNING:tensorflow:From <ipython-input-297-eb1796c03fa6>:2: initialize_all_variables (from tensorflow.python.ops.variables) is deprecated and will be removed after 2017-03-02.\n",
      "Instructions for updating:\n",
      "Use `tf.global_variables_initializer` instead.\n"
     ]
    }
   ],
   "source": [
    "# Gir oss en Operasjon/Operation som kan initialisere alle variablene i grafen.\n",
    "init_global = tf.initialize_all_variables()"
   ]
  },
  {
   "cell_type": "markdown",
   "metadata": {
    "collapsed": true
   },
   "source": [
    "# Start session\n",
    "Session er noe vi deployer vår graf til. Det vil si at vi binder Grafen til en execution context hvor grafen lever, Contexteten kan være f.eks en CPU eller GPU som støtter kjøring av Grafen.\n",
    "Det er først når vi har laget en session at vi kan begynne å kjøre alt vi har lagt til Grafen vår.\n",
    "\n",
    "Bruker Stochastic Gradient Decent slik at det tar kortere tid å optimalisere. Dette betyr at vi trener modellen på flere observasjoner i en batch i stedenfor 1 og 1 observasjon. \n",
    "\n",
    "Til slutt ser kalkulerer vi treffsikkerheten av modellen og ser på hvordan weights endte opp etter treningen"
   ]
  },
  {
   "cell_type": "code",
   "execution_count": 298,
   "metadata": {
    "collapsed": false
   },
   "outputs": [
    {
     "name": "stdout",
     "output_type": "stream",
     "text": [
      "Epoch nummer: 1  cost: 205.10649738928015\n",
      "Epoch nummer: 2  cost: 0.5500064886222451\n",
      "Epoch nummer: 3  cost: 0.548132061958313\n",
      "Epoch nummer: 4  cost: 0.5479222950288806\n",
      "Epoch nummer: 5  cost: 0.5478953522140697\n",
      "Ferdig med trening!\n",
      "\n",
      "\n",
      "Start accuracy\n",
      "Validation Accuracy: 0.7593333125114441\n",
      "\n",
      "\n",
      "Skriver ut trente verdier av vektene.\n",
      "\n",
      "Features:\n",
      "satisfaction_level, last_evaluation, number_project, average_montly_hours,time_spend_company, Work_accident, promotion_last_5year, sales, salary\n",
      "\n",
      "{'hidden': array([[ -0.02637012,   0.59817493,  -0.70099372,   0.94648504,\n",
      "          0.59067225,  -0.44117117,  -1.02326941,  -0.90137482,\n",
      "          0.72714645],\n",
      "       [ -0.53295147,   0.93141586,  -0.75553823,  -0.33216977,\n",
      "         -0.6226058 ,   0.5965662 ,  -0.34336624,   0.40418884,\n",
      "         -0.34483442],\n",
      "       [ -0.37932605,  -0.58957648,   0.66730016,   0.98086476,\n",
      "          0.51418567,   0.61389351,   0.03882217,  -0.84188592,\n",
      "          0.25873357],\n",
      "       [ -8.58134556, -10.08387661,  -4.3999157 ,  -0.26024413,\n",
      "         -0.67105484,  -0.24174047, -24.24160004, -12.6366663 ,  -8.4516964 ],\n",
      "       [ -0.22894694,  -1.10233498,   0.14122039,   0.40506482,\n",
      "         -0.97196937,   0.52756429,  -0.66157317,   0.56708908,\n",
      "          0.78163958],\n",
      "       [  0.09493704,   0.26863921,  -0.1227432 ,   0.84080315,\n",
      "         -0.92258477,   0.27571702,   0.62945163,   0.57538927,\n",
      "          0.04023002],\n",
      "       [ -0.97211355,  -0.41740781,  -0.34369269,   0.42027497,\n",
      "          0.22739339,   0.90543962,  -0.43839276,   0.27835548,\n",
      "          0.74814725],\n",
      "       [  0.15370238,  -0.09118557,   0.65039217,  -0.91635823,\n",
      "          0.70711446,  -0.36300111,   0.27751574,  -0.24297276,   0.2651335 ],\n",
      "       [ -0.68816775,   0.91190863,  -0.98774892,  -0.11906672,\n",
      "         -0.697402  ,  -0.11687446,  -0.81936264,   0.55901086,\n",
      "         -0.14246233]], dtype=float32), 'output': array([[  3.61951113,  -6.09167385],\n",
      "       [  4.24218321,  -6.4320426 ],\n",
      "       [  2.99849892,  -4.43111086],\n",
      "       [ -3.00565481,  -1.67088723],\n",
      "       [ -1.27676511,   0.30061626],\n",
      "       [ -2.69274592,  -1.34806585],\n",
      "       [-11.26648998,   7.09584713],\n",
      "       [-25.99664307,  24.59845543],\n",
      "       [-19.82226181,  20.17966843]], dtype=float32)}\n",
      "Blaa \n",
      "\n",
      "\n",
      "Tensor(\"add_6:0\", shape=(?, 2), dtype=float32)\n"
     ]
    }
   ],
   "source": [
    "with tf.Session() as sess:\n",
    "    \n",
    "    # Først initialiserer vi Variablene våre \n",
    "    sess.run(init_global)\n",
    "    \n",
    "    # Hvor mange Epocher skal vi kjøre over datasettet\n",
    "    for epoch in range(epochs):\n",
    "        \n",
    "        # Gjennomsnittlig kost for hver observasjon i datasettet. Finner også antall batcher vi skal kjøre\n",
    "        average_cost = 0\n",
    "        antall_batcher = int(data_train.shape[0]/batch_str)\n",
    "        \n",
    "        for i in range(antall_batcher):\n",
    "            batch_x, batch_label = lag_en_batch(batch_str, x_train, y_hot_train, i)\n",
    "\n",
    "            feed_dict_train = {x_placeh: batch_x, y_placeh: batch_label}\n",
    "            \n",
    "            _ ,current_cost = sess.run([optimizer, cost], feed_dict={x_placeh: batch_x, y_placeh: batch_label})\n",
    "            \n",
    "            average_cost += current_cost/antall_batcher\n",
    "            \n",
    "        print(\"Epoch nummer: {}  cost: {}\".format( (epoch+1), average_cost))\n",
    "    \n",
    "    print(\"Ferdig med trening!\\n\\n\") \n",
    "    \n",
    "    # find predictions on val set\n",
    "    print(\"Start accuracy\")\n",
    "    \n",
    "    # Henter kolonnenen med høyest tall i \"output_layer\" og \"y_placeh\" matrisene. Deretter sammenligner om like\n",
    "    \n",
    "    pred_temp = tf.equal(tf.argmax(output_layer, 1), tf.argmax(y_placeh, 1))\n",
    "    accuracy = tf.reduce_mean(tf.cast(pred_temp, \"float\"))\n",
    "    out = accuracy.eval({x_placeh: x_test.reshape(-1, ANTALL_FEATURES), y_placeh: y_hot_test})\n",
    "\n",
    "    print (\"Validation Accuracy: {}\\n\\n\".format(out))\n",
    "    \n",
    "    print (\"Skriver ut trente verdier av vektene.\\n\")\n",
    "    print (\"Features:\")\n",
    "    print (\"satisfaction_level, last_evaluation, number_project, average_montly_hours,\" + \n",
    "           \"time_spend_company, Work_accident, promotion_last_5year, sales, salary\\n\")\n",
    "    # Henter de nye vektene som er trent! \n",
    "    # Får 2 arrays. 1 for Input til Hidden layer, og 1 for Hidden layer til Output layer\n",
    "    vekter = sess.run(weights)\n",
    "    \n",
    "    print(vekter)\n",
    "\n",
    "    print(\"Blaa \\n\\n\")\n",
    "    #output = sess.run(output_layer)\n",
    "    print(output_layer)\n",
    "    predict = tf.argmax(output_layer, 1)\n",
    "    pred = predict.eval({x_placeh: x_test.reshape(-1, ANTALL_FEATURES)})    "
   ]
  },
  {
   "cell_type": "code",
   "execution_count": null,
   "metadata": {
    "collapsed": false
   },
   "outputs": [],
   "source": []
  },
  {
   "cell_type": "markdown",
   "metadata": {
    "collapsed": true
   },
   "source": [
    "# The End\n",
    "Det under er bare et dårlig forsøk på å skrive ut prediksjonsmatrisen. "
   ]
  },
  {
   "cell_type": "code",
   "execution_count": null,
   "metadata": {
    "collapsed": true
   },
   "outputs": [],
   "source": []
  },
  {
   "cell_type": "code",
   "execution_count": 299,
   "metadata": {
    "collapsed": false
   },
   "outputs": [],
   "source": [
    "hr_data_testing = pd.read_csv('data/HR_comma_sep.csv')"
   ]
  },
  {
   "cell_type": "code",
   "execution_count": 300,
   "metadata": {
    "collapsed": true
   },
   "outputs": [],
   "source": [
    "hr_data_testing = hr_data_testing.sample(frac=1).reset_index(drop=True)"
   ]
  },
  {
   "cell_type": "code",
   "execution_count": 301,
   "metadata": {
    "collapsed": false
   },
   "outputs": [
    {
     "data": {
      "text/html": [
       "<div>\n",
       "<table border=\"1\" class=\"dataframe\">\n",
       "  <thead>\n",
       "    <tr style=\"text-align: right;\">\n",
       "      <th></th>\n",
       "      <th>satisfaction_level</th>\n",
       "      <th>last_evaluation</th>\n",
       "      <th>number_project</th>\n",
       "      <th>average_montly_hours</th>\n",
       "      <th>time_spend_company</th>\n",
       "      <th>Work_accident</th>\n",
       "      <th>left</th>\n",
       "      <th>promotion_last_5years</th>\n",
       "      <th>sales</th>\n",
       "      <th>salary</th>\n",
       "    </tr>\n",
       "  </thead>\n",
       "  <tbody>\n",
       "    <tr>\n",
       "      <th>0</th>\n",
       "      <td>0.11</td>\n",
       "      <td>0.89</td>\n",
       "      <td>6</td>\n",
       "      <td>264</td>\n",
       "      <td>4</td>\n",
       "      <td>0</td>\n",
       "      <td>1</td>\n",
       "      <td>0</td>\n",
       "      <td>support</td>\n",
       "      <td>low</td>\n",
       "    </tr>\n",
       "    <tr>\n",
       "      <th>1</th>\n",
       "      <td>0.59</td>\n",
       "      <td>0.57</td>\n",
       "      <td>4</td>\n",
       "      <td>197</td>\n",
       "      <td>2</td>\n",
       "      <td>0</td>\n",
       "      <td>0</td>\n",
       "      <td>0</td>\n",
       "      <td>sales</td>\n",
       "      <td>medium</td>\n",
       "    </tr>\n",
       "    <tr>\n",
       "      <th>2</th>\n",
       "      <td>0.11</td>\n",
       "      <td>0.85</td>\n",
       "      <td>6</td>\n",
       "      <td>305</td>\n",
       "      <td>4</td>\n",
       "      <td>0</td>\n",
       "      <td>1</td>\n",
       "      <td>0</td>\n",
       "      <td>accounting</td>\n",
       "      <td>medium</td>\n",
       "    </tr>\n",
       "    <tr>\n",
       "      <th>3</th>\n",
       "      <td>0.75</td>\n",
       "      <td>0.83</td>\n",
       "      <td>4</td>\n",
       "      <td>133</td>\n",
       "      <td>4</td>\n",
       "      <td>0</td>\n",
       "      <td>0</td>\n",
       "      <td>0</td>\n",
       "      <td>hr</td>\n",
       "      <td>high</td>\n",
       "    </tr>\n",
       "    <tr>\n",
       "      <th>4</th>\n",
       "      <td>0.39</td>\n",
       "      <td>0.68</td>\n",
       "      <td>2</td>\n",
       "      <td>282</td>\n",
       "      <td>5</td>\n",
       "      <td>0</td>\n",
       "      <td>1</td>\n",
       "      <td>0</td>\n",
       "      <td>marketing</td>\n",
       "      <td>low</td>\n",
       "    </tr>\n",
       "    <tr>\n",
       "      <th>5</th>\n",
       "      <td>0.22</td>\n",
       "      <td>0.91</td>\n",
       "      <td>6</td>\n",
       "      <td>222</td>\n",
       "      <td>8</td>\n",
       "      <td>0</td>\n",
       "      <td>0</td>\n",
       "      <td>0</td>\n",
       "      <td>technical</td>\n",
       "      <td>low</td>\n",
       "    </tr>\n",
       "    <tr>\n",
       "      <th>6</th>\n",
       "      <td>0.09</td>\n",
       "      <td>0.95</td>\n",
       "      <td>7</td>\n",
       "      <td>256</td>\n",
       "      <td>4</td>\n",
       "      <td>0</td>\n",
       "      <td>1</td>\n",
       "      <td>0</td>\n",
       "      <td>marketing</td>\n",
       "      <td>medium</td>\n",
       "    </tr>\n",
       "    <tr>\n",
       "      <th>7</th>\n",
       "      <td>0.90</td>\n",
       "      <td>0.98</td>\n",
       "      <td>4</td>\n",
       "      <td>264</td>\n",
       "      <td>6</td>\n",
       "      <td>0</td>\n",
       "      <td>1</td>\n",
       "      <td>0</td>\n",
       "      <td>product_mng</td>\n",
       "      <td>medium</td>\n",
       "    </tr>\n",
       "    <tr>\n",
       "      <th>8</th>\n",
       "      <td>0.63</td>\n",
       "      <td>0.94</td>\n",
       "      <td>3</td>\n",
       "      <td>172</td>\n",
       "      <td>3</td>\n",
       "      <td>0</td>\n",
       "      <td>0</td>\n",
       "      <td>0</td>\n",
       "      <td>management</td>\n",
       "      <td>medium</td>\n",
       "    </tr>\n",
       "    <tr>\n",
       "      <th>9</th>\n",
       "      <td>0.99</td>\n",
       "      <td>0.94</td>\n",
       "      <td>5</td>\n",
       "      <td>151</td>\n",
       "      <td>3</td>\n",
       "      <td>0</td>\n",
       "      <td>0</td>\n",
       "      <td>0</td>\n",
       "      <td>product_mng</td>\n",
       "      <td>medium</td>\n",
       "    </tr>\n",
       "    <tr>\n",
       "      <th>10</th>\n",
       "      <td>0.31</td>\n",
       "      <td>0.84</td>\n",
       "      <td>7</td>\n",
       "      <td>133</td>\n",
       "      <td>5</td>\n",
       "      <td>0</td>\n",
       "      <td>1</td>\n",
       "      <td>0</td>\n",
       "      <td>technical</td>\n",
       "      <td>low</td>\n",
       "    </tr>\n",
       "    <tr>\n",
       "      <th>11</th>\n",
       "      <td>0.56</td>\n",
       "      <td>0.64</td>\n",
       "      <td>3</td>\n",
       "      <td>260</td>\n",
       "      <td>3</td>\n",
       "      <td>0</td>\n",
       "      <td>0</td>\n",
       "      <td>0</td>\n",
       "      <td>RandD</td>\n",
       "      <td>medium</td>\n",
       "    </tr>\n",
       "    <tr>\n",
       "      <th>12</th>\n",
       "      <td>0.94</td>\n",
       "      <td>0.77</td>\n",
       "      <td>5</td>\n",
       "      <td>233</td>\n",
       "      <td>4</td>\n",
       "      <td>0</td>\n",
       "      <td>0</td>\n",
       "      <td>0</td>\n",
       "      <td>technical</td>\n",
       "      <td>high</td>\n",
       "    </tr>\n",
       "    <tr>\n",
       "      <th>13</th>\n",
       "      <td>0.83</td>\n",
       "      <td>0.73</td>\n",
       "      <td>5</td>\n",
       "      <td>136</td>\n",
       "      <td>3</td>\n",
       "      <td>0</td>\n",
       "      <td>0</td>\n",
       "      <td>0</td>\n",
       "      <td>sales</td>\n",
       "      <td>low</td>\n",
       "    </tr>\n",
       "    <tr>\n",
       "      <th>14</th>\n",
       "      <td>0.63</td>\n",
       "      <td>0.53</td>\n",
       "      <td>4</td>\n",
       "      <td>243</td>\n",
       "      <td>2</td>\n",
       "      <td>0</td>\n",
       "      <td>0</td>\n",
       "      <td>0</td>\n",
       "      <td>technical</td>\n",
       "      <td>low</td>\n",
       "    </tr>\n",
       "    <tr>\n",
       "      <th>15</th>\n",
       "      <td>0.29</td>\n",
       "      <td>0.95</td>\n",
       "      <td>5</td>\n",
       "      <td>117</td>\n",
       "      <td>4</td>\n",
       "      <td>0</td>\n",
       "      <td>0</td>\n",
       "      <td>0</td>\n",
       "      <td>product_mng</td>\n",
       "      <td>low</td>\n",
       "    </tr>\n",
       "    <tr>\n",
       "      <th>16</th>\n",
       "      <td>0.40</td>\n",
       "      <td>0.56</td>\n",
       "      <td>2</td>\n",
       "      <td>131</td>\n",
       "      <td>3</td>\n",
       "      <td>0</td>\n",
       "      <td>1</td>\n",
       "      <td>0</td>\n",
       "      <td>IT</td>\n",
       "      <td>low</td>\n",
       "    </tr>\n",
       "    <tr>\n",
       "      <th>17</th>\n",
       "      <td>0.65</td>\n",
       "      <td>0.85</td>\n",
       "      <td>4</td>\n",
       "      <td>172</td>\n",
       "      <td>3</td>\n",
       "      <td>0</td>\n",
       "      <td>0</td>\n",
       "      <td>0</td>\n",
       "      <td>sales</td>\n",
       "      <td>medium</td>\n",
       "    </tr>\n",
       "    <tr>\n",
       "      <th>18</th>\n",
       "      <td>0.10</td>\n",
       "      <td>0.84</td>\n",
       "      <td>6</td>\n",
       "      <td>246</td>\n",
       "      <td>4</td>\n",
       "      <td>0</td>\n",
       "      <td>1</td>\n",
       "      <td>0</td>\n",
       "      <td>hr</td>\n",
       "      <td>medium</td>\n",
       "    </tr>\n",
       "    <tr>\n",
       "      <th>19</th>\n",
       "      <td>0.55</td>\n",
       "      <td>0.93</td>\n",
       "      <td>4</td>\n",
       "      <td>251</td>\n",
       "      <td>4</td>\n",
       "      <td>1</td>\n",
       "      <td>0</td>\n",
       "      <td>0</td>\n",
       "      <td>RandD</td>\n",
       "      <td>low</td>\n",
       "    </tr>\n",
       "  </tbody>\n",
       "</table>\n",
       "</div>"
      ],
      "text/plain": [
       "    satisfaction_level  last_evaluation  number_project  average_montly_hours  \\\n",
       "0                 0.11             0.89               6                   264   \n",
       "1                 0.59             0.57               4                   197   \n",
       "2                 0.11             0.85               6                   305   \n",
       "3                 0.75             0.83               4                   133   \n",
       "4                 0.39             0.68               2                   282   \n",
       "5                 0.22             0.91               6                   222   \n",
       "6                 0.09             0.95               7                   256   \n",
       "7                 0.90             0.98               4                   264   \n",
       "8                 0.63             0.94               3                   172   \n",
       "9                 0.99             0.94               5                   151   \n",
       "10                0.31             0.84               7                   133   \n",
       "11                0.56             0.64               3                   260   \n",
       "12                0.94             0.77               5                   233   \n",
       "13                0.83             0.73               5                   136   \n",
       "14                0.63             0.53               4                   243   \n",
       "15                0.29             0.95               5                   117   \n",
       "16                0.40             0.56               2                   131   \n",
       "17                0.65             0.85               4                   172   \n",
       "18                0.10             0.84               6                   246   \n",
       "19                0.55             0.93               4                   251   \n",
       "\n",
       "    time_spend_company  Work_accident  left  promotion_last_5years  \\\n",
       "0                    4              0     1                      0   \n",
       "1                    2              0     0                      0   \n",
       "2                    4              0     1                      0   \n",
       "3                    4              0     0                      0   \n",
       "4                    5              0     1                      0   \n",
       "5                    8              0     0                      0   \n",
       "6                    4              0     1                      0   \n",
       "7                    6              0     1                      0   \n",
       "8                    3              0     0                      0   \n",
       "9                    3              0     0                      0   \n",
       "10                   5              0     1                      0   \n",
       "11                   3              0     0                      0   \n",
       "12                   4              0     0                      0   \n",
       "13                   3              0     0                      0   \n",
       "14                   2              0     0                      0   \n",
       "15                   4              0     0                      0   \n",
       "16                   3              0     1                      0   \n",
       "17                   3              0     0                      0   \n",
       "18                   4              0     1                      0   \n",
       "19                   4              1     0                      0   \n",
       "\n",
       "          sales  salary  \n",
       "0       support     low  \n",
       "1         sales  medium  \n",
       "2    accounting  medium  \n",
       "3            hr    high  \n",
       "4     marketing     low  \n",
       "5     technical     low  \n",
       "6     marketing  medium  \n",
       "7   product_mng  medium  \n",
       "8    management  medium  \n",
       "9   product_mng  medium  \n",
       "10    technical     low  \n",
       "11        RandD  medium  \n",
       "12    technical    high  \n",
       "13        sales     low  \n",
       "14    technical     low  \n",
       "15  product_mng     low  \n",
       "16           IT     low  \n",
       "17        sales  medium  \n",
       "18           hr  medium  \n",
       "19        RandD     low  "
      ]
     },
     "execution_count": 301,
     "metadata": {},
     "output_type": "execute_result"
    }
   ],
   "source": [
    "hr_data_testing.head(20)"
   ]
  },
  {
   "cell_type": "code",
   "execution_count": 302,
   "metadata": {
    "collapsed": true
   },
   "outputs": [],
   "source": [
    "hr_data_testing['sales'].replace(['sales', 'accounting', 'hr', 'technical', 'support', 'management',\n",
    "        'IT', 'product_mng', 'marketing', 'RandD'], [0, 1, 2, 3, 4, 5, 6, 7, 8, 9], inplace = True)\n",
    "\n",
    "hr_data_testing['salary'].replace(['low', 'medium', 'high'], [0, 1, 2], inplace = True)"
   ]
  },
  {
   "cell_type": "code",
   "execution_count": 303,
   "metadata": {
    "collapsed": false
   },
   "outputs": [],
   "source": [
    "df = hr_data_testing.iloc[-1]"
   ]
  }
 ],
 "metadata": {
  "kernelspec": {
   "display_name": "Python 3",
   "language": "python",
   "name": "python3"
  },
  "language_info": {
   "codemirror_mode": {
    "name": "ipython",
    "version": 3
   },
   "file_extension": ".py",
   "mimetype": "text/x-python",
   "name": "python",
   "nbconvert_exporter": "python",
   "pygments_lexer": "ipython3",
   "version": "3.6.0"
  }
 },
 "nbformat": 4,
 "nbformat_minor": 2
}
